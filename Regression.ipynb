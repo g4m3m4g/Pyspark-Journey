{
 "cells": [
  {
   "cell_type": "code",
   "execution_count": 22,
   "id": "06257080-7b85-4506-a693-30907d3dd27b",
   "metadata": {},
   "outputs": [],
   "source": [
    "from pyspark.sql import SparkSession\n",
    "spark = SparkSession.builder.appName('Regression').getOrCreate()"
   ]
  },
  {
   "cell_type": "code",
   "execution_count": 21,
   "id": "3f999231-917e-4b54-9311-eb87a04876cd",
   "metadata": {},
   "outputs": [],
   "source": [
    "# for stopping session\n",
    "spark.stop()"
   ]
  },
  {
   "cell_type": "code",
   "execution_count": 23,
   "id": "d43dde1c-ac8c-4f4b-92dc-f171c9756bcb",
   "metadata": {},
   "outputs": [
    {
     "data": {
      "text/html": [
       "\n",
       "            <div>\n",
       "                <p><b>SparkSession - in-memory</b></p>\n",
       "                \n",
       "        <div>\n",
       "            <p><b>SparkContext</b></p>\n",
       "\n",
       "            <p><a href=\"http://LAPTOP-C1QSICAM:4041\">Spark UI</a></p>\n",
       "\n",
       "            <dl>\n",
       "              <dt>Version</dt>\n",
       "                <dd><code>v3.5.4</code></dd>\n",
       "              <dt>Master</dt>\n",
       "                <dd><code>local[*]</code></dd>\n",
       "              <dt>AppName</dt>\n",
       "                <dd><code>Regression</code></dd>\n",
       "            </dl>\n",
       "        </div>\n",
       "        \n",
       "            </div>\n",
       "        "
      ],
      "text/plain": [
       "<pyspark.sql.session.SparkSession at 0x257bf3d6db0>"
      ]
     },
     "execution_count": 23,
     "metadata": {},
     "output_type": "execute_result"
    }
   ],
   "source": [
    "spark"
   ]
  },
  {
   "cell_type": "code",
   "execution_count": 24,
   "id": "25b62f6d-efae-46ff-98ac-26d9a69c482e",
   "metadata": {},
   "outputs": [],
   "source": [
    "data = spark.read.csv('./DATASET/salary_dataset.csv', header=True, inferSchema=True)"
   ]
  },
  {
   "cell_type": "code",
   "execution_count": 29,
   "id": "34b97514-4130-4e15-832f-ec57f5ed0ae9",
   "metadata": {},
   "outputs": [
    {
     "name": "stdout",
     "output_type": "stream",
     "text": [
      "+---+----------+----+---------+----------+------+\n",
      "|age|experience| gpa|   degree|  position|salary|\n",
      "+---+----------+----+---------+----------+------+\n",
      "| 30|         7|3.94| bachelor|  engineer| 32500|\n",
      "| 26|         2|2.86| bachelor|      NULL| 22500|\n",
      "| 27|         0|3.13|doctorate| secretary| 37000|\n",
      "| 32|      NULL| 3.1| bachelor|  engineer| 24500|\n",
      "| 24|         1|3.81| bachelor|accountant| 23500|\n",
      "+---+----------+----+---------+----------+------+\n",
      "only showing top 5 rows\n",
      "\n"
     ]
    }
   ],
   "source": [
    "data.show(5)"
   ]
  },
  {
   "cell_type": "code",
   "execution_count": 30,
   "id": "1b867de8-d9b6-4e24-b10e-d83d46b4c060",
   "metadata": {},
   "outputs": [],
   "source": [
    "data = data.na.drop()"
   ]
  },
  {
   "cell_type": "code",
   "execution_count": 31,
   "id": "e35ecc65-6f1e-4b67-88b9-cf3a4877298f",
   "metadata": {},
   "outputs": [
    {
     "name": "stdout",
     "output_type": "stream",
     "text": [
      "+---+----------+----+---------+----------+------+\n",
      "|age|experience| gpa|   degree|  position|salary|\n",
      "+---+----------+----+---------+----------+------+\n",
      "| 30|         7|3.94| bachelor|  engineer| 32500|\n",
      "| 27|         0|3.13|doctorate| secretary| 37000|\n",
      "| 24|         1|3.81| bachelor|accountant| 23500|\n",
      "| 35|         7|3.93|doctorate| secretary| 43500|\n",
      "| 23|         1|3.78|   master|accountant| 30500|\n",
      "| 32|         8|3.04| bachelor|accountant| 31500|\n",
      "| 27|         2|3.52| bachelor| secretary| 18500|\n",
      "| 35|        11|3.66|doctorate|accountant| 54000|\n",
      "| 33|         4|2.59| bachelor| secretary| 26000|\n",
      "| 25|         3|3.81| bachelor| secretary| 17000|\n",
      "| 30|         4|3.17| bachelor|accountant| 23000|\n",
      "| 22|         1|3.66| bachelor| secretary| 24000|\n",
      "| 25|         0|3.65| bachelor|  engineer| 27500|\n",
      "| 28|         4| 3.1|   master|  engineer| 37000|\n",
      "| 24|         0|3.05|   master| secretary| 28500|\n",
      "| 33|         3|3.34|doctorate|  engineer| 44000|\n",
      "| 31|         0|2.65| bachelor|accountant| 24000|\n",
      "| 25|         4| 2.8|   master|accountant| 27500|\n",
      "| 23|         1|2.54|   master| secretary| 23000|\n",
      "| 29|         7|3.52|   master|accountant| 33500|\n",
      "+---+----------+----+---------+----------+------+\n",
      "only showing top 20 rows\n",
      "\n"
     ]
    }
   ],
   "source": [
    "data.show()"
   ]
  },
  {
   "cell_type": "code",
   "execution_count": 32,
   "id": "f05b8f75-31ae-4650-baf0-9747beccd2c5",
   "metadata": {},
   "outputs": [],
   "source": [
    "from pyspark.ml.feature import StringIndexer, OneHotEncoder, VectorAssembler\n",
    "from pyspark.ml.regression import LinearRegression"
   ]
  },
  {
   "cell_type": "markdown",
   "id": "401f6907-ea52-4612-a886-aa9e7bfe62d0",
   "metadata": {},
   "source": [
    "# Convert categorical columns to numeric indices\n"
   ]
  },
  {
   "cell_type": "code",
   "execution_count": 33,
   "id": "878dac34-5385-4a30-8615-9340505b3e07",
   "metadata": {},
   "outputs": [],
   "source": [
    "degree_indexer = StringIndexer(inputCol=\"degree\", outputCol=\"degree_index\")\n",
    "position_indexer = StringIndexer(inputCol=\"position\", outputCol=\"position_index\")\n",
    "\n",
    "data = degree_indexer.fit(data).transform(data)\n",
    "data = position_indexer.fit(data).transform(data)"
   ]
  },
  {
   "cell_type": "markdown",
   "id": "348648bc-48ee-42ca-8952-dd8cc65b834c",
   "metadata": {},
   "source": [
    "# Apply OneHotEncoder"
   ]
  },
  {
   "cell_type": "code",
   "execution_count": 35,
   "id": "805f26cb-f84f-4d39-9ac6-6832ec05f6c1",
   "metadata": {},
   "outputs": [],
   "source": [
    "degree_encoder = OneHotEncoder(inputCol=\"degree_index\", outputCol=\"degree_vec\")\n",
    "position_encoder = OneHotEncoder(inputCol=\"position_index\", outputCol=\"position_vec\")\n",
    "\n",
    "data = degree_encoder.fit(data).transform(data)\n",
    "data = position_encoder.fit(data).transform(data)"
   ]
  },
  {
   "cell_type": "code",
   "execution_count": 36,
   "id": "01e0f810-d9d9-4b67-847f-516d0c553c6e",
   "metadata": {},
   "outputs": [
    {
     "name": "stdout",
     "output_type": "stream",
     "text": [
      "+---+----------+----+---------+----------+------+------------+--------------+-------------+-------------+\n",
      "|age|experience| gpa|   degree|  position|salary|degree_index|position_index|   degree_vec| position_vec|\n",
      "+---+----------+----+---------+----------+------+------------+--------------+-------------+-------------+\n",
      "| 30|         7|3.94| bachelor|  engineer| 32500|         0.0|           1.0|(2,[0],[1.0])|(2,[1],[1.0])|\n",
      "| 27|         0|3.13|doctorate| secretary| 37000|         2.0|           2.0|    (2,[],[])|    (2,[],[])|\n",
      "| 24|         1|3.81| bachelor|accountant| 23500|         0.0|           0.0|(2,[0],[1.0])|(2,[0],[1.0])|\n",
      "| 35|         7|3.93|doctorate| secretary| 43500|         2.0|           2.0|    (2,[],[])|    (2,[],[])|\n",
      "| 23|         1|3.78|   master|accountant| 30500|         1.0|           0.0|(2,[1],[1.0])|(2,[0],[1.0])|\n",
      "| 32|         8|3.04| bachelor|accountant| 31500|         0.0|           0.0|(2,[0],[1.0])|(2,[0],[1.0])|\n",
      "| 27|         2|3.52| bachelor| secretary| 18500|         0.0|           2.0|(2,[0],[1.0])|    (2,[],[])|\n",
      "| 35|        11|3.66|doctorate|accountant| 54000|         2.0|           0.0|    (2,[],[])|(2,[0],[1.0])|\n",
      "| 33|         4|2.59| bachelor| secretary| 26000|         0.0|           2.0|(2,[0],[1.0])|    (2,[],[])|\n",
      "| 25|         3|3.81| bachelor| secretary| 17000|         0.0|           2.0|(2,[0],[1.0])|    (2,[],[])|\n",
      "| 30|         4|3.17| bachelor|accountant| 23000|         0.0|           0.0|(2,[0],[1.0])|(2,[0],[1.0])|\n",
      "| 22|         1|3.66| bachelor| secretary| 24000|         0.0|           2.0|(2,[0],[1.0])|    (2,[],[])|\n",
      "| 25|         0|3.65| bachelor|  engineer| 27500|         0.0|           1.0|(2,[0],[1.0])|(2,[1],[1.0])|\n",
      "| 28|         4| 3.1|   master|  engineer| 37000|         1.0|           1.0|(2,[1],[1.0])|(2,[1],[1.0])|\n",
      "| 24|         0|3.05|   master| secretary| 28500|         1.0|           2.0|(2,[1],[1.0])|    (2,[],[])|\n",
      "| 33|         3|3.34|doctorate|  engineer| 44000|         2.0|           1.0|    (2,[],[])|(2,[1],[1.0])|\n",
      "| 31|         0|2.65| bachelor|accountant| 24000|         0.0|           0.0|(2,[0],[1.0])|(2,[0],[1.0])|\n",
      "| 25|         4| 2.8|   master|accountant| 27500|         1.0|           0.0|(2,[1],[1.0])|(2,[0],[1.0])|\n",
      "| 23|         1|2.54|   master| secretary| 23000|         1.0|           2.0|(2,[1],[1.0])|    (2,[],[])|\n",
      "| 29|         7|3.52|   master|accountant| 33500|         1.0|           0.0|(2,[1],[1.0])|(2,[0],[1.0])|\n",
      "+---+----------+----+---------+----------+------+------------+--------------+-------------+-------------+\n",
      "only showing top 20 rows\n",
      "\n"
     ]
    }
   ],
   "source": [
    "data.show()"
   ]
  },
  {
   "cell_type": "markdown",
   "id": "5bcb53f9-5e71-490b-9dc8-a3e6dfc474ef",
   "metadata": {},
   "source": [
    "#  Assemble features"
   ]
  },
  {
   "cell_type": "code",
   "execution_count": 37,
   "id": "cb23b6fe-aa29-44ef-91de-b830a1b4b0da",
   "metadata": {},
   "outputs": [
    {
     "name": "stdout",
     "output_type": "stream",
     "text": [
      "+---+----------+----+---------+----------+------+------------+--------------+-------------+-------------+--------------------+\n",
      "|age|experience| gpa|   degree|  position|salary|degree_index|position_index|   degree_vec| position_vec|            features|\n",
      "+---+----------+----+---------+----------+------+------------+--------------+-------------+-------------+--------------------+\n",
      "| 30|         7|3.94| bachelor|  engineer| 32500|         0.0|           1.0|(2,[0],[1.0])|(2,[1],[1.0])|[30.0,7.0,3.94,1....|\n",
      "| 27|         0|3.13|doctorate| secretary| 37000|         2.0|           2.0|    (2,[],[])|    (2,[],[])|(7,[0,2],[27.0,3....|\n",
      "| 24|         1|3.81| bachelor|accountant| 23500|         0.0|           0.0|(2,[0],[1.0])|(2,[0],[1.0])|[24.0,1.0,3.81,1....|\n",
      "| 35|         7|3.93|doctorate| secretary| 43500|         2.0|           2.0|    (2,[],[])|    (2,[],[])|(7,[0,1,2],[35.0,...|\n",
      "| 23|         1|3.78|   master|accountant| 30500|         1.0|           0.0|(2,[1],[1.0])|(2,[0],[1.0])|[23.0,1.0,3.78,0....|\n",
      "| 32|         8|3.04| bachelor|accountant| 31500|         0.0|           0.0|(2,[0],[1.0])|(2,[0],[1.0])|[32.0,8.0,3.04,1....|\n",
      "| 27|         2|3.52| bachelor| secretary| 18500|         0.0|           2.0|(2,[0],[1.0])|    (2,[],[])|[27.0,2.0,3.52,1....|\n",
      "| 35|        11|3.66|doctorate|accountant| 54000|         2.0|           0.0|    (2,[],[])|(2,[0],[1.0])|[35.0,11.0,3.66,0...|\n",
      "| 33|         4|2.59| bachelor| secretary| 26000|         0.0|           2.0|(2,[0],[1.0])|    (2,[],[])|[33.0,4.0,2.59,1....|\n",
      "| 25|         3|3.81| bachelor| secretary| 17000|         0.0|           2.0|(2,[0],[1.0])|    (2,[],[])|[25.0,3.0,3.81,1....|\n",
      "| 30|         4|3.17| bachelor|accountant| 23000|         0.0|           0.0|(2,[0],[1.0])|(2,[0],[1.0])|[30.0,4.0,3.17,1....|\n",
      "| 22|         1|3.66| bachelor| secretary| 24000|         0.0|           2.0|(2,[0],[1.0])|    (2,[],[])|[22.0,1.0,3.66,1....|\n",
      "| 25|         0|3.65| bachelor|  engineer| 27500|         0.0|           1.0|(2,[0],[1.0])|(2,[1],[1.0])|[25.0,0.0,3.65,1....|\n",
      "| 28|         4| 3.1|   master|  engineer| 37000|         1.0|           1.0|(2,[1],[1.0])|(2,[1],[1.0])|[28.0,4.0,3.1,0.0...|\n",
      "| 24|         0|3.05|   master| secretary| 28500|         1.0|           2.0|(2,[1],[1.0])|    (2,[],[])|(7,[0,2,4],[24.0,...|\n",
      "| 33|         3|3.34|doctorate|  engineer| 44000|         2.0|           1.0|    (2,[],[])|(2,[1],[1.0])|[33.0,3.0,3.34,0....|\n",
      "| 31|         0|2.65| bachelor|accountant| 24000|         0.0|           0.0|(2,[0],[1.0])|(2,[0],[1.0])|[31.0,0.0,2.65,1....|\n",
      "| 25|         4| 2.8|   master|accountant| 27500|         1.0|           0.0|(2,[1],[1.0])|(2,[0],[1.0])|[25.0,4.0,2.8,0.0...|\n",
      "| 23|         1|2.54|   master| secretary| 23000|         1.0|           2.0|(2,[1],[1.0])|    (2,[],[])|[23.0,1.0,2.54,0....|\n",
      "| 29|         7|3.52|   master|accountant| 33500|         1.0|           0.0|(2,[1],[1.0])|(2,[0],[1.0])|[29.0,7.0,3.52,0....|\n",
      "+---+----------+----+---------+----------+------+------------+--------------+-------------+-------------+--------------------+\n",
      "only showing top 20 rows\n",
      "\n"
     ]
    }
   ],
   "source": [
    "assembler = VectorAssembler(\n",
    "    inputCols=[\"age\", \"experience\", \"gpa\", \"degree_vec\", \"position_vec\"],\n",
    "    outputCol=\"features\"\n",
    ")\n",
    "\n",
    "data = assembler.transform(data)\n",
    "data.show()"
   ]
  },
  {
   "cell_type": "markdown",
   "id": "924d9daa-2223-404d-ab66-3dde5f08db9b",
   "metadata": {},
   "source": [
    "# Split data into training and testing sets"
   ]
  },
  {
   "cell_type": "code",
   "execution_count": 38,
   "id": "0d1c3ca2-0945-40fc-8c29-86db52ee1a80",
   "metadata": {},
   "outputs": [],
   "source": [
    "train_data, test_data = data.randomSplit([0.8, 0.2], seed=42)"
   ]
  },
  {
   "cell_type": "markdown",
   "id": "9637ecb3-5afc-4dc2-8114-9392363458bc",
   "metadata": {},
   "source": [
    "# Train the regression model"
   ]
  },
  {
   "cell_type": "code",
   "execution_count": 39,
   "id": "a1d75c9b-eab1-4d8c-9df3-05b31c88d08e",
   "metadata": {},
   "outputs": [],
   "source": [
    "lr = LinearRegression(featuresCol=\"features\", labelCol=\"salary\")\n",
    "model = lr.fit(train_data)"
   ]
  },
  {
   "cell_type": "markdown",
   "id": "f3808551-7cb2-44dc-b59a-b2b5f718f004",
   "metadata": {},
   "source": [
    "# Evaluate the model"
   ]
  },
  {
   "cell_type": "code",
   "execution_count": 41,
   "id": "8250ea10-4d47-474d-9d89-9381eadaec17",
   "metadata": {},
   "outputs": [
    {
     "name": "stdout",
     "output_type": "stream",
     "text": [
      "+-------------------------------+------+------------------+\n",
      "|features                       |salary|prediction        |\n",
      "+-------------------------------+------+------------------+\n",
      "|[21.0,0.0,3.12,1.0,0.0,1.0,0.0]|21500 |21647.59533015531 |\n",
      "|(7,[0,2,3],[22.0,3.17,1.0])    |19000 |18026.517010779826|\n",
      "|[22.0,1.0,2.56,1.0,0.0,1.0,0.0]|22500 |21872.262613668663|\n",
      "|[23.0,0.0,3.81,0.0,1.0,0.0,1.0]|36500 |29816.384003785985|\n",
      "|(7,[0,2,4],[24.0,3.05,1.0])    |28500 |22999.748702248853|\n",
      "|[24.0,3.0,2.63,0.0,1.0,1.0,0.0]|26000 |29139.21006568931 |\n",
      "|[25.0,4.0,2.8,0.0,1.0,1.0,0.0] |27500 |30627.771937498128|\n",
      "|[27.0,2.0,3.52,1.0,0.0,0.0,0.0]|18500 |21656.509802306726|\n",
      "|[29.0,2.0,3.77,1.0,0.0,0.0,0.0]|22000 |22513.054030344727|\n",
      "|[29.0,3.0,2.63,0.0,1.0,0.0,1.0]|27500 |31991.622502598024|\n",
      "|[29.0,6.0,2.88,0.0,1.0,1.0,0.0]|32500 |33578.44505979666 |\n",
      "|[29.0,7.0,3.52,0.0,1.0,1.0,0.0]|33500 |35668.89547516976 |\n",
      "|[30.0,4.0,3.17,1.0,0.0,1.0,0.0]|23000 |27570.34351308721 |\n",
      "|[30.0,7.0,3.13,1.0,0.0,0.0,0.0]|20500 |26528.726108090203|\n",
      "|[31.0,8.0,3.46,0.0,0.0,1.0,0.0]|49000 |46791.5072699632  |\n",
      "|[33.0,3.0,3.34,0.0,0.0,0.0,1.0]|44000 |43888.70855173133 |\n",
      "|[34.0,8.0,3.5,0.0,1.0,0.0,1.0] |49500 |39469.05911063651 |\n",
      "+-------------------------------+------+------------------+\n",
      "\n"
     ]
    }
   ],
   "source": [
    "predictions = model.transform(test_data)\n",
    "predictions.select(\"features\", \"salary\", \"prediction\").show(truncate=False)"
   ]
  },
  {
   "cell_type": "code",
   "execution_count": 42,
   "id": "ebcd20c8-bd11-4227-8d4a-2807ddb9e059",
   "metadata": {},
   "outputs": [
    {
     "name": "stdout",
     "output_type": "stream",
     "text": [
      "Coefficients: [211.85180780402277,982.378447552427,1731.3624497198134,-14577.703048443514,-9820.411478616152,3919.498249665496,5712.651647554094]\n",
      "Intercept: 22455.06132192303\n",
      "RMSE: 2804.910231143828\n",
      "R2: 0.9030454655486437\n"
     ]
    }
   ],
   "source": [
    "# model coefficients and intercept\n",
    "print(f\"Coefficients: {model.coefficients}\")\n",
    "print(f\"Intercept: {model.intercept}\")\n",
    "\n",
    "# model performance metrics\n",
    "training_summary = model.summary\n",
    "print(f\"RMSE: {training_summary.rootMeanSquaredError}\")\n",
    "print(f\"R2: {training_summary.r2}\")"
   ]
  },
  {
   "cell_type": "code",
   "execution_count": null,
   "id": "a6be34f9-f24d-48d2-b365-60684d7afa2b",
   "metadata": {},
   "outputs": [],
   "source": []
  }
 ],
 "metadata": {
  "kernelspec": {
   "display_name": "Python 3 (ipykernel)",
   "language": "python",
   "name": "python3"
  },
  "language_info": {
   "codemirror_mode": {
    "name": "ipython",
    "version": 3
   },
   "file_extension": ".py",
   "mimetype": "text/x-python",
   "name": "python",
   "nbconvert_exporter": "python",
   "pygments_lexer": "ipython3",
   "version": "3.12.4"
  }
 },
 "nbformat": 4,
 "nbformat_minor": 5
}
