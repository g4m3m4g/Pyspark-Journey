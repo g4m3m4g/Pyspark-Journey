{
 "cells": [
  {
   "cell_type": "markdown",
   "id": "618241ba-0b7e-43db-99cc-902df192e5fc",
   "metadata": {},
   "source": [
    "# Learning PySpark Yo!"
   ]
  },
  {
   "cell_type": "markdown",
   "id": "aefc2627-4d89-4285-9c38-d042fa98dffd",
   "metadata": {},
   "source": [
    "# 19/2/2025"
   ]
  },
  {
   "cell_type": "code",
   "execution_count": 77,
   "id": "d2524a71-64e0-47dd-bb90-158768b2c323",
   "metadata": {},
   "outputs": [],
   "source": [
    "from pyspark.sql import SparkSession"
   ]
  },
  {
   "cell_type": "code",
   "execution_count": 85,
   "id": "fa8d8842-eace-4ebf-a293-2cc1d5b16439",
   "metadata": {},
   "outputs": [],
   "source": [
    "# for stopping session\n",
    "spark.stop()"
   ]
  },
  {
   "cell_type": "code",
   "execution_count": 88,
   "id": "5a277927-30df-4744-bf26-43059a088504",
   "metadata": {},
   "outputs": [],
   "source": [
    "spark = SparkSession.builder.appName('Dataframe').getOrCreate()"
   ]
  },
  {
   "cell_type": "code",
   "execution_count": 90,
   "id": "dd4dc0f9-1fae-43e6-979c-a3e62a393c5e",
   "metadata": {},
   "outputs": [
    {
     "data": {
      "text/html": [
       "\n",
       "            <div>\n",
       "                <p><b>SparkSession - in-memory</b></p>\n",
       "                \n",
       "        <div>\n",
       "            <p><b>SparkContext</b></p>\n",
       "\n",
       "            <p><a href=\"http://LAPTOP-C1QSICAM:4040\">Spark UI</a></p>\n",
       "\n",
       "            <dl>\n",
       "              <dt>Version</dt>\n",
       "                <dd><code>v3.5.4</code></dd>\n",
       "              <dt>Master</dt>\n",
       "                <dd><code>local[*]</code></dd>\n",
       "              <dt>AppName</dt>\n",
       "                <dd><code>Datafram</code></dd>\n",
       "            </dl>\n",
       "        </div>\n",
       "        \n",
       "            </div>\n",
       "        "
      ],
      "text/plain": [
       "<pyspark.sql.session.SparkSession at 0x18bc09dbaa0>"
      ]
     },
     "execution_count": 90,
     "metadata": {},
     "output_type": "execute_result"
    }
   ],
   "source": [
    "spark"
   ]
  },
  {
   "cell_type": "markdown",
   "id": "ad1944e2-ad28-4982-8217-1e32a2ef7f99",
   "metadata": {},
   "source": [
    "# Import data"
   ]
  },
  {
   "cell_type": "code",
   "execution_count": 91,
   "id": "cb38fc93-328a-48d9-9cc9-d9b4aa356fd0",
   "metadata": {},
   "outputs": [],
   "source": [
    "df = spark.read.csv('./DATASET/salary_dataset.csv')"
   ]
  },
  {
   "cell_type": "code",
   "execution_count": 92,
   "id": "bec3a312-3341-458b-8beb-b78017917873",
   "metadata": {},
   "outputs": [
    {
     "data": {
      "text/plain": [
       "DataFrame[_c0: string, _c1: string, _c2: string, _c3: string, _c4: string, _c5: string]"
      ]
     },
     "execution_count": 92,
     "metadata": {},
     "output_type": "execute_result"
    }
   ],
   "source": [
    "df"
   ]
  },
  {
   "cell_type": "code",
   "execution_count": 93,
   "id": "4d45705e-1bcf-4f53-964d-79287481a800",
   "metadata": {},
   "outputs": [
    {
     "name": "stdout",
     "output_type": "stream",
     "text": [
      "+---+----------+----+---------+----------+------+\n",
      "|_c0|       _c1| _c2|      _c3|       _c4|   _c5|\n",
      "+---+----------+----+---------+----------+------+\n",
      "|age|experience| gpa|   degree|  position|salary|\n",
      "| 30|         7|3.94| bachelor|  engineer| 32500|\n",
      "| 26|         2|2.86| bachelor|      NULL| 22500|\n",
      "| 27|         0|3.13|doctorate| secretary| 37000|\n",
      "| 32|      NULL| 3.1| bachelor|  engineer| 24500|\n",
      "| 24|         1|3.81| bachelor|accountant| 23500|\n",
      "| 35|         7|3.93|doctorate| secretary| 43500|\n",
      "| 23|         1|3.78|   master|accountant| 30500|\n",
      "| 32|         8|3.04| bachelor|accountant| 31500|\n",
      "| 27|         2|3.52| bachelor| secretary| 18500|\n",
      "| 35|        11|3.66|doctorate|accountant| 54000|\n",
      "| 33|         4|2.59| bachelor| secretary| 26000|\n",
      "| 25|         3|3.81| bachelor| secretary| 17000|\n",
      "| 30|         4|3.17| bachelor|accountant| 23000|\n",
      "| 22|         1|3.66| bachelor| secretary| 24000|\n",
      "| 25|         0|3.65| bachelor|  engineer| 27500|\n",
      "| 28|         4| 3.1|   master|  engineer| 37000|\n",
      "| 24|         0|3.05|   master| secretary| 28500|\n",
      "| 33|         3|3.34|doctorate|  engineer| 44000|\n",
      "| 31|         0|2.65| bachelor|accountant| 24000|\n",
      "+---+----------+----+---------+----------+------+\n",
      "only showing top 20 rows\n",
      "\n"
     ]
    }
   ],
   "source": [
    "df.show()\n",
    "# you can see that the columns name are not it"
   ]
  },
  {
   "cell_type": "code",
   "execution_count": 95,
   "id": "385caa92-8b2d-4045-b7f1-3aada0bb60ad",
   "metadata": {},
   "outputs": [
    {
     "name": "stdout",
     "output_type": "stream",
     "text": [
      "+---+----------+----+---------+----------+------+\n",
      "|age|experience| gpa|   degree|  position|salary|\n",
      "+---+----------+----+---------+----------+------+\n",
      "| 30|         7|3.94| bachelor|  engineer| 32500|\n",
      "| 26|         2|2.86| bachelor|      NULL| 22500|\n",
      "| 27|         0|3.13|doctorate| secretary| 37000|\n",
      "| 32|      NULL| 3.1| bachelor|  engineer| 24500|\n",
      "| 24|         1|3.81| bachelor|accountant| 23500|\n",
      "| 35|         7|3.93|doctorate| secretary| 43500|\n",
      "| 23|         1|3.78|   master|accountant| 30500|\n",
      "| 32|         8|3.04| bachelor|accountant| 31500|\n",
      "| 27|         2|3.52| bachelor| secretary| 18500|\n",
      "| 35|        11|3.66|doctorate|accountant| 54000|\n",
      "| 33|         4|2.59| bachelor| secretary| 26000|\n",
      "| 25|         3|3.81| bachelor| secretary| 17000|\n",
      "| 30|         4|3.17| bachelor|accountant| 23000|\n",
      "| 22|         1|3.66| bachelor| secretary| 24000|\n",
      "| 25|         0|3.65| bachelor|  engineer| 27500|\n",
      "| 28|         4| 3.1|   master|  engineer| 37000|\n",
      "| 24|         0|3.05|   master| secretary| 28500|\n",
      "| 33|         3|3.34|doctorate|  engineer| 44000|\n",
      "| 31|         0|2.65| bachelor|accountant| 24000|\n",
      "| 25|         4| 2.8|   master|accountant| 27500|\n",
      "+---+----------+----+---------+----------+------+\n",
      "only showing top 20 rows\n",
      "\n"
     ]
    }
   ],
   "source": [
    "# set column name to default\n",
    "# inferSchema = False is consider data as String\n",
    "df = spark.read.option('header', 'true').csv('./DATASET/salary_dataset.csv', inferSchema = True)\n",
    "df.show()"
   ]
  },
  {
   "cell_type": "code",
   "execution_count": 96,
   "id": "bfa6bd0e-f0a7-4dbc-9133-a1e0c69b5705",
   "metadata": {},
   "outputs": [
    {
     "data": {
      "text/plain": [
       "pyspark.sql.dataframe.DataFrame"
      ]
     },
     "execution_count": 96,
     "metadata": {},
     "output_type": "execute_result"
    }
   ],
   "source": [
    "type(df)"
   ]
  },
  {
   "cell_type": "code",
   "execution_count": 97,
   "id": "8b153b25-489e-4441-bb8d-b3da5b5e909f",
   "metadata": {},
   "outputs": [
    {
     "name": "stdout",
     "output_type": "stream",
     "text": [
      "root\n",
      " |-- age: integer (nullable = true)\n",
      " |-- experience: integer (nullable = true)\n",
      " |-- gpa: double (nullable = true)\n",
      " |-- degree: string (nullable = true)\n",
      " |-- position: string (nullable = true)\n",
      " |-- salary: integer (nullable = true)\n",
      "\n"
     ]
    }
   ],
   "source": [
    "# Check schema\n",
    "df.printSchema()"
   ]
  },
  {
   "cell_type": "code",
   "execution_count": 98,
   "id": "6a222f13-26fa-45b3-b867-d59badd15748",
   "metadata": {},
   "outputs": [
    {
     "data": {
      "text/plain": [
       "[Row(age=30, experience=7, gpa=3.94, degree='bachelor', position='engineer', salary=32500),\n",
       " Row(age=26, experience=2, gpa=2.86, degree='bachelor', position=None, salary=22500),\n",
       " Row(age=27, experience=0, gpa=3.13, degree='doctorate', position='secretary', salary=37000),\n",
       " Row(age=32, experience=None, gpa=3.1, degree='bachelor', position='engineer', salary=24500),\n",
       " Row(age=24, experience=1, gpa=3.81, degree='bachelor', position='accountant', salary=23500)]"
      ]
     },
     "execution_count": 98,
     "metadata": {},
     "output_type": "execute_result"
    }
   ],
   "source": [
    "df.head(5)"
   ]
  },
  {
   "cell_type": "code",
   "execution_count": 99,
   "id": "5445fafd-8a6a-4a47-ad4b-c716dbd26df8",
   "metadata": {},
   "outputs": [
    {
     "name": "stdout",
     "output_type": "stream",
     "text": [
      "+---+----+\n",
      "|age| gpa|\n",
      "+---+----+\n",
      "| 30|3.94|\n",
      "| 26|2.86|\n",
      "| 27|3.13|\n",
      "+---+----+\n",
      "only showing top 3 rows\n",
      "\n"
     ]
    }
   ],
   "source": [
    "df.select(['age', 'gpa']).show(3)"
   ]
  },
  {
   "cell_type": "code",
   "execution_count": 100,
   "id": "7f8227ea-7943-4b63-9717-fb3f107b6104",
   "metadata": {},
   "outputs": [
    {
     "data": {
      "text/plain": [
       "[('age', 'int'),\n",
       " ('experience', 'int'),\n",
       " ('gpa', 'double'),\n",
       " ('degree', 'string'),\n",
       " ('position', 'string'),\n",
       " ('salary', 'int')]"
      ]
     },
     "execution_count": 100,
     "metadata": {},
     "output_type": "execute_result"
    }
   ],
   "source": [
    "df.dtypes"
   ]
  },
  {
   "cell_type": "code",
   "execution_count": 101,
   "id": "8276c55d-5588-4bf5-895b-0ecee6d6a01f",
   "metadata": {},
   "outputs": [
    {
     "name": "stdout",
     "output_type": "stream",
     "text": [
      "+-------+-----------------+-----------------+------------------+--------+----------+------------------+\n",
      "|summary|              age|       experience|               gpa|  degree|  position|            salary|\n",
      "+-------+-----------------+-----------------+------------------+--------+----------+------------------+\n",
      "|  count|               89|               89|                90|      90|        89|                89|\n",
      "|   mean|28.02247191011236|3.808988764044944|3.2634444444444437|    NULL|      NULL|31224.719101123595|\n",
      "| stddev|4.364051308156759|3.658354089969913|0.5251306121340191|    NULL|      NULL|  9186.51780029839|\n",
      "|    min|               21|                0|              2.52|bachelor|accountant|             13000|\n",
      "|    max|               35|               13|              5.88|  master| secretary|             54000|\n",
      "+-------+-----------------+-----------------+------------------+--------+----------+------------------+\n",
      "\n"
     ]
    }
   ],
   "source": [
    "df.describe().show()"
   ]
  },
  {
   "cell_type": "code",
   "execution_count": 108,
   "id": "74cdc3a8-04cb-44fe-8e38-c1d0f612562b",
   "metadata": {},
   "outputs": [
    {
     "name": "stdout",
     "output_type": "stream",
     "text": [
      "+---+----------+----+---------+----------+------+---------+\n",
      "|age|experience| gpa|   degree|  position|salary|salary x2|\n",
      "+---+----------+----+---------+----------+------+---------+\n",
      "| 30|         7|3.94| bachelor|  engineer| 32500|    65000|\n",
      "| 26|         2|2.86| bachelor|      NULL| 22500|    45000|\n",
      "| 27|         0|3.13|doctorate| secretary| 37000|    74000|\n",
      "| 32|      NULL| 3.1| bachelor|  engineer| 24500|    49000|\n",
      "| 24|         1|3.81| bachelor|accountant| 23500|    47000|\n",
      "| 35|         7|3.93|doctorate| secretary| 43500|    87000|\n",
      "| 23|         1|3.78|   master|accountant| 30500|    61000|\n",
      "| 32|         8|3.04| bachelor|accountant| 31500|    63000|\n",
      "| 27|         2|3.52| bachelor| secretary| 18500|    37000|\n",
      "| 35|        11|3.66|doctorate|accountant| 54000|   108000|\n",
      "| 33|         4|2.59| bachelor| secretary| 26000|    52000|\n",
      "| 25|         3|3.81| bachelor| secretary| 17000|    34000|\n",
      "| 30|         4|3.17| bachelor|accountant| 23000|    46000|\n",
      "| 22|         1|3.66| bachelor| secretary| 24000|    48000|\n",
      "| 25|         0|3.65| bachelor|  engineer| 27500|    55000|\n",
      "| 28|         4| 3.1|   master|  engineer| 37000|    74000|\n",
      "| 24|         0|3.05|   master| secretary| 28500|    57000|\n",
      "| 33|         3|3.34|doctorate|  engineer| 44000|    88000|\n",
      "| 31|         0|2.65| bachelor|accountant| 24000|    48000|\n",
      "| 25|         4| 2.8|   master|accountant| 27500|    55000|\n",
      "+---+----------+----+---------+----------+------+---------+\n",
      "only showing top 20 rows\n",
      "\n"
     ]
    }
   ],
   "source": [
    "# add columns in df\n",
    "df = df.withColumn('salary x2', df['salary'] * 2)\n",
    "df.show()"
   ]
  },
  {
   "cell_type": "code",
   "execution_count": 111,
   "id": "4e437c51-2c3d-4181-a2d7-18ac85353db0",
   "metadata": {},
   "outputs": [
    {
     "name": "stdout",
     "output_type": "stream",
     "text": [
      "+---+----------+----+---------+----------+------+\n",
      "|age|experience| gpa|   degree|  position|salary|\n",
      "+---+----------+----+---------+----------+------+\n",
      "| 30|         7|3.94| bachelor|  engineer| 32500|\n",
      "| 26|         2|2.86| bachelor|      NULL| 22500|\n",
      "| 27|         0|3.13|doctorate| secretary| 37000|\n",
      "| 32|      NULL| 3.1| bachelor|  engineer| 24500|\n",
      "| 24|         1|3.81| bachelor|accountant| 23500|\n",
      "| 35|         7|3.93|doctorate| secretary| 43500|\n",
      "| 23|         1|3.78|   master|accountant| 30500|\n",
      "| 32|         8|3.04| bachelor|accountant| 31500|\n",
      "| 27|         2|3.52| bachelor| secretary| 18500|\n",
      "| 35|        11|3.66|doctorate|accountant| 54000|\n",
      "| 33|         4|2.59| bachelor| secretary| 26000|\n",
      "| 25|         3|3.81| bachelor| secretary| 17000|\n",
      "| 30|         4|3.17| bachelor|accountant| 23000|\n",
      "| 22|         1|3.66| bachelor| secretary| 24000|\n",
      "| 25|         0|3.65| bachelor|  engineer| 27500|\n",
      "| 28|         4| 3.1|   master|  engineer| 37000|\n",
      "| 24|         0|3.05|   master| secretary| 28500|\n",
      "| 33|         3|3.34|doctorate|  engineer| 44000|\n",
      "| 31|         0|2.65| bachelor|accountant| 24000|\n",
      "| 25|         4| 2.8|   master|accountant| 27500|\n",
      "+---+----------+----+---------+----------+------+\n",
      "only showing top 20 rows\n",
      "\n"
     ]
    }
   ],
   "source": [
    "# drop column\n",
    "df = df.drop('salary x2')\n",
    "df.show()"
   ]
  },
  {
   "cell_type": "code",
   "execution_count": 113,
   "id": "7b61af5f-cd33-4c39-94b7-a535a3d1b3c8",
   "metadata": {},
   "outputs": [
    {
     "name": "stdout",
     "output_type": "stream",
     "text": [
      "+---+----------+----+---------+----------+------+\n",
      "|age|experience| GPA|   degree|  position|salary|\n",
      "+---+----------+----+---------+----------+------+\n",
      "| 30|         7|3.94| bachelor|  engineer| 32500|\n",
      "| 26|         2|2.86| bachelor|      NULL| 22500|\n",
      "| 27|         0|3.13|doctorate| secretary| 37000|\n",
      "| 32|      NULL| 3.1| bachelor|  engineer| 24500|\n",
      "| 24|         1|3.81| bachelor|accountant| 23500|\n",
      "| 35|         7|3.93|doctorate| secretary| 43500|\n",
      "| 23|         1|3.78|   master|accountant| 30500|\n",
      "| 32|         8|3.04| bachelor|accountant| 31500|\n",
      "| 27|         2|3.52| bachelor| secretary| 18500|\n",
      "| 35|        11|3.66|doctorate|accountant| 54000|\n",
      "| 33|         4|2.59| bachelor| secretary| 26000|\n",
      "| 25|         3|3.81| bachelor| secretary| 17000|\n",
      "| 30|         4|3.17| bachelor|accountant| 23000|\n",
      "| 22|         1|3.66| bachelor| secretary| 24000|\n",
      "| 25|         0|3.65| bachelor|  engineer| 27500|\n",
      "| 28|         4| 3.1|   master|  engineer| 37000|\n",
      "| 24|         0|3.05|   master| secretary| 28500|\n",
      "| 33|         3|3.34|doctorate|  engineer| 44000|\n",
      "| 31|         0|2.65| bachelor|accountant| 24000|\n",
      "| 25|         4| 2.8|   master|accountant| 27500|\n",
      "+---+----------+----+---------+----------+------+\n",
      "only showing top 20 rows\n",
      "\n"
     ]
    }
   ],
   "source": [
    "# rename columns\n",
    "df = df.withColumnRenamed('gpa','GPA')\n",
    "df.show()"
   ]
  },
  {
   "cell_type": "markdown",
   "id": "ccf48d46-bf1c-4c84-a179-560a305dc29e",
   "metadata": {},
   "source": [
    "# Handling Missing Values"
   ]
  },
  {
   "cell_type": "code",
   "execution_count": 114,
   "id": "7cb68aca-7853-434f-978f-1fbc1220679d",
   "metadata": {},
   "outputs": [
    {
     "name": "stdout",
     "output_type": "stream",
     "text": [
      "+---+----------+----+---------+----------+------+\n",
      "|age|experience| GPA|   degree|  position|salary|\n",
      "+---+----------+----+---------+----------+------+\n",
      "| 30|         7|3.94| bachelor|  engineer| 32500|\n",
      "| 27|         0|3.13|doctorate| secretary| 37000|\n",
      "| 24|         1|3.81| bachelor|accountant| 23500|\n",
      "| 35|         7|3.93|doctorate| secretary| 43500|\n",
      "| 23|         1|3.78|   master|accountant| 30500|\n",
      "| 32|         8|3.04| bachelor|accountant| 31500|\n",
      "| 27|         2|3.52| bachelor| secretary| 18500|\n",
      "| 35|        11|3.66|doctorate|accountant| 54000|\n",
      "| 33|         4|2.59| bachelor| secretary| 26000|\n",
      "| 25|         3|3.81| bachelor| secretary| 17000|\n",
      "| 30|         4|3.17| bachelor|accountant| 23000|\n",
      "| 22|         1|3.66| bachelor| secretary| 24000|\n",
      "| 25|         0|3.65| bachelor|  engineer| 27500|\n",
      "| 28|         4| 3.1|   master|  engineer| 37000|\n",
      "| 24|         0|3.05|   master| secretary| 28500|\n",
      "| 33|         3|3.34|doctorate|  engineer| 44000|\n",
      "| 31|         0|2.65| bachelor|accountant| 24000|\n",
      "| 25|         4| 2.8|   master|accountant| 27500|\n",
      "| 23|         1|2.54|   master| secretary| 23000|\n",
      "| 29|         7|3.52|   master|accountant| 33500|\n",
      "+---+----------+----+---------+----------+------+\n",
      "only showing top 20 rows\n",
      "\n"
     ]
    }
   ],
   "source": [
    "# drop na\n",
    "df.na.drop().show()"
   ]
  },
  {
   "cell_type": "code",
   "execution_count": 116,
   "id": "ee4f5e46-fa33-4ea1-af61-f2f740e0cf93",
   "metadata": {},
   "outputs": [
    {
     "name": "stdout",
     "output_type": "stream",
     "text": [
      "+---+----------+----+---------+----------+------+\n",
      "|age|experience| GPA|   degree|  position|salary|\n",
      "+---+----------+----+---------+----------+------+\n",
      "| 30|         7|3.94| bachelor|  engineer| 32500|\n",
      "| 26|         2|2.86| bachelor|      NULL| 22500|\n",
      "| 27|         0|3.13|doctorate| secretary| 37000|\n",
      "| 32|      NULL| 3.1| bachelor|  engineer| 24500|\n",
      "| 24|         1|3.81| bachelor|accountant| 23500|\n",
      "| 35|         7|3.93|doctorate| secretary| 43500|\n",
      "| 23|         1|3.78|   master|accountant| 30500|\n",
      "| 32|         8|3.04| bachelor|accountant| 31500|\n",
      "| 27|         2|3.52| bachelor| secretary| 18500|\n",
      "| 35|        11|3.66|doctorate|accountant| 54000|\n",
      "| 33|         4|2.59| bachelor| secretary| 26000|\n",
      "| 25|         3|3.81| bachelor| secretary| 17000|\n",
      "| 30|         4|3.17| bachelor|accountant| 23000|\n",
      "| 22|         1|3.66| bachelor| secretary| 24000|\n",
      "| 25|         0|3.65| bachelor|  engineer| 27500|\n",
      "| 28|         4| 3.1|   master|  engineer| 37000|\n",
      "| 24|         0|3.05|   master| secretary| 28500|\n",
      "| 33|         3|3.34|doctorate|  engineer| 44000|\n",
      "| 31|         0|2.65| bachelor|accountant| 24000|\n",
      "| 25|         4| 2.8|   master|accountant| 27500|\n",
      "+---+----------+----+---------+----------+------+\n",
      "only showing top 20 rows\n",
      "\n"
     ]
    }
   ],
   "source": [
    "# any == how\n",
    "# drop row that has all NULL\n",
    "df.na.drop(how='all').show()"
   ]
  },
  {
   "cell_type": "code",
   "execution_count": 118,
   "id": "fc216075-fa31-41b6-9f70-29a47cd21d52",
   "metadata": {},
   "outputs": [
    {
     "name": "stdout",
     "output_type": "stream",
     "text": [
      "+---+----------+----+---------+----------+------+\n",
      "|age|experience| GPA|   degree|  position|salary|\n",
      "+---+----------+----+---------+----------+------+\n",
      "| 30|         7|3.94| bachelor|  engineer| 32500|\n",
      "| 27|         0|3.13|doctorate| secretary| 37000|\n",
      "| 24|         1|3.81| bachelor|accountant| 23500|\n",
      "| 35|         7|3.93|doctorate| secretary| 43500|\n",
      "| 23|         1|3.78|   master|accountant| 30500|\n",
      "| 32|         8|3.04| bachelor|accountant| 31500|\n",
      "| 27|         2|3.52| bachelor| secretary| 18500|\n",
      "| 35|        11|3.66|doctorate|accountant| 54000|\n",
      "| 33|         4|2.59| bachelor| secretary| 26000|\n",
      "| 25|         3|3.81| bachelor| secretary| 17000|\n",
      "| 30|         4|3.17| bachelor|accountant| 23000|\n",
      "| 22|         1|3.66| bachelor| secretary| 24000|\n",
      "| 25|         0|3.65| bachelor|  engineer| 27500|\n",
      "| 28|         4| 3.1|   master|  engineer| 37000|\n",
      "| 24|         0|3.05|   master| secretary| 28500|\n",
      "| 33|         3|3.34|doctorate|  engineer| 44000|\n",
      "| 31|         0|2.65| bachelor|accountant| 24000|\n",
      "| 25|         4| 2.8|   master|accountant| 27500|\n",
      "| 23|         1|2.54|   master| secretary| 23000|\n",
      "| 29|         7|3.52|   master|accountant| 33500|\n",
      "+---+----------+----+---------+----------+------+\n",
      "only showing top 20 rows\n",
      "\n"
     ]
    }
   ],
   "source": [
    "# all == how\n",
    "# drop row that has a NULL\n",
    "df.na.drop(how='any').show()"
   ]
  },
  {
   "cell_type": "code",
   "execution_count": 119,
   "id": "68ad0bff-5159-4f87-be9a-5d97393cb6f5",
   "metadata": {},
   "outputs": [
    {
     "name": "stdout",
     "output_type": "stream",
     "text": [
      "+---+----------+----+---------+----------+------+\n",
      "|age|experience| GPA|   degree|  position|salary|\n",
      "+---+----------+----+---------+----------+------+\n",
      "| 30|         7|3.94| bachelor|  engineer| 32500|\n",
      "| 26|         2|2.86| bachelor|      NULL| 22500|\n",
      "| 27|         0|3.13|doctorate| secretary| 37000|\n",
      "| 32|      NULL| 3.1| bachelor|  engineer| 24500|\n",
      "| 24|         1|3.81| bachelor|accountant| 23500|\n",
      "| 35|         7|3.93|doctorate| secretary| 43500|\n",
      "| 23|         1|3.78|   master|accountant| 30500|\n",
      "| 32|         8|3.04| bachelor|accountant| 31500|\n",
      "| 27|         2|3.52| bachelor| secretary| 18500|\n",
      "| 35|        11|3.66|doctorate|accountant| 54000|\n",
      "| 33|         4|2.59| bachelor| secretary| 26000|\n",
      "| 25|         3|3.81| bachelor| secretary| 17000|\n",
      "| 30|         4|3.17| bachelor|accountant| 23000|\n",
      "| 22|         1|3.66| bachelor| secretary| 24000|\n",
      "| 25|         0|3.65| bachelor|  engineer| 27500|\n",
      "| 28|         4| 3.1|   master|  engineer| 37000|\n",
      "| 24|         0|3.05|   master| secretary| 28500|\n",
      "| 33|         3|3.34|doctorate|  engineer| 44000|\n",
      "| 31|         0|2.65| bachelor|accountant| 24000|\n",
      "| 25|         4| 2.8|   master|accountant| 27500|\n",
      "+---+----------+----+---------+----------+------+\n",
      "only showing top 20 rows\n",
      "\n"
     ]
    }
   ],
   "source": [
    "# threshold\n",
    "df.na.drop(how='any', thresh=2).show()"
   ]
  },
  {
   "cell_type": "code",
   "execution_count": 122,
   "id": "b51ec85c-a546-444c-b39b-b24cafa7803f",
   "metadata": {},
   "outputs": [
    {
     "name": "stdout",
     "output_type": "stream",
     "text": [
      "+---+----------+----+---------+----------+------+\n",
      "|age|experience| GPA|   degree|  position|salary|\n",
      "+---+----------+----+---------+----------+------+\n",
      "| 30|         7|3.94| bachelor|  engineer| 32500|\n",
      "| 27|         0|3.13|doctorate| secretary| 37000|\n",
      "| 32|      NULL| 3.1| bachelor|  engineer| 24500|\n",
      "| 24|         1|3.81| bachelor|accountant| 23500|\n",
      "| 35|         7|3.93|doctorate| secretary| 43500|\n",
      "| 23|         1|3.78|   master|accountant| 30500|\n",
      "| 32|         8|3.04| bachelor|accountant| 31500|\n",
      "| 27|         2|3.52| bachelor| secretary| 18500|\n",
      "| 35|        11|3.66|doctorate|accountant| 54000|\n",
      "| 33|         4|2.59| bachelor| secretary| 26000|\n",
      "| 25|         3|3.81| bachelor| secretary| 17000|\n",
      "| 30|         4|3.17| bachelor|accountant| 23000|\n",
      "| 22|         1|3.66| bachelor| secretary| 24000|\n",
      "| 25|         0|3.65| bachelor|  engineer| 27500|\n",
      "| 28|         4| 3.1|   master|  engineer| 37000|\n",
      "| 24|         0|3.05|   master| secretary| 28500|\n",
      "| 33|         3|3.34|doctorate|  engineer| 44000|\n",
      "| 31|         0|2.65| bachelor|accountant| 24000|\n",
      "| 25|         4| 2.8|   master|accountant| 27500|\n",
      "| 23|         1|2.54|   master| secretary| 23000|\n",
      "+---+----------+----+---------+----------+------+\n",
      "only showing top 20 rows\n",
      "\n"
     ]
    }
   ],
   "source": [
    "#subset\n",
    "df.na.drop(how='any', subset=['position']).show()"
   ]
  },
  {
   "cell_type": "code",
   "execution_count": 130,
   "id": "42d16f81-7d80-486e-a114-bbba2a1df742",
   "metadata": {},
   "outputs": [
    {
     "name": "stdout",
     "output_type": "stream",
     "text": [
      "+---+----------+----+---------+----------+------+\n",
      "|age|experience| GPA|   degree|  position|salary|\n",
      "+---+----------+----+---------+----------+------+\n",
      "| 30|         7|3.94| bachelor|  engineer| 32500|\n",
      "| 26|         2|2.86| bachelor|   MISSING| 22500|\n",
      "| 27|         0|3.13|doctorate| secretary| 37000|\n",
      "| 32|      NULL| 3.1| bachelor|  engineer| 24500|\n",
      "| 24|         1|3.81| bachelor|accountant| 23500|\n",
      "| 35|         7|3.93|doctorate| secretary| 43500|\n",
      "| 23|         1|3.78|   master|accountant| 30500|\n",
      "| 32|         8|3.04| bachelor|accountant| 31500|\n",
      "| 27|         2|3.52| bachelor| secretary| 18500|\n",
      "| 35|        11|3.66|doctorate|accountant| 54000|\n",
      "| 33|         4|2.59| bachelor| secretary| 26000|\n",
      "| 25|         3|3.81| bachelor| secretary| 17000|\n",
      "| 30|         4|3.17| bachelor|accountant| 23000|\n",
      "| 22|         1|3.66| bachelor| secretary| 24000|\n",
      "| 25|         0|3.65| bachelor|  engineer| 27500|\n",
      "| 28|         4| 3.1|   master|  engineer| 37000|\n",
      "| 24|         0|3.05|   master| secretary| 28500|\n",
      "| 33|         3|3.34|doctorate|  engineer| 44000|\n",
      "| 31|         0|2.65| bachelor|accountant| 24000|\n",
      "| 25|         4| 2.8|   master|accountant| 27500|\n",
      "+---+----------+----+---------+----------+------+\n",
      "only showing top 20 rows\n",
      "\n"
     ]
    }
   ],
   "source": [
    "# filling missing values\n",
    "df.na.fill('MISSING', ['position']).show()"
   ]
  },
  {
   "cell_type": "code",
   "execution_count": 131,
   "id": "c71a4b03-77e5-4274-9f81-4ae323a9bc95",
   "metadata": {},
   "outputs": [],
   "source": [
    "# imputer\n",
    "from pyspark.ml.feature import Imputer\n",
    "\n",
    "imputer = Imputer(\n",
    "    inputCols=['age', 'experience', 'salary'],\n",
    "    outputCols=['{}_imputed'.format(c) for c in ['age', 'experience', 'salary'] ]\n",
    ").setStrategy('mean')"
   ]
  },
  {
   "cell_type": "code",
   "execution_count": 132,
   "id": "92f9be46-5585-4d03-a16e-acc12dcdc856",
   "metadata": {},
   "outputs": [
    {
     "name": "stdout",
     "output_type": "stream",
     "text": [
      "+---+----------+----+---------+----------+------+-----------+------------------+--------------+\n",
      "|age|experience| GPA|   degree|  position|salary|age_imputed|experience_imputed|salary_imputed|\n",
      "+---+----------+----+---------+----------+------+-----------+------------------+--------------+\n",
      "| 30|         7|3.94| bachelor|  engineer| 32500|         30|                 7|         32500|\n",
      "| 26|         2|2.86| bachelor|      NULL| 22500|         26|                 2|         22500|\n",
      "| 27|         0|3.13|doctorate| secretary| 37000|         27|                 0|         37000|\n",
      "| 32|      NULL| 3.1| bachelor|  engineer| 24500|         32|                 3|         24500|\n",
      "| 24|         1|3.81| bachelor|accountant| 23500|         24|                 1|         23500|\n",
      "| 35|         7|3.93|doctorate| secretary| 43500|         35|                 7|         43500|\n",
      "| 23|         1|3.78|   master|accountant| 30500|         23|                 1|         30500|\n",
      "| 32|         8|3.04| bachelor|accountant| 31500|         32|                 8|         31500|\n",
      "| 27|         2|3.52| bachelor| secretary| 18500|         27|                 2|         18500|\n",
      "| 35|        11|3.66|doctorate|accountant| 54000|         35|                11|         54000|\n",
      "| 33|         4|2.59| bachelor| secretary| 26000|         33|                 4|         26000|\n",
      "| 25|         3|3.81| bachelor| secretary| 17000|         25|                 3|         17000|\n",
      "| 30|         4|3.17| bachelor|accountant| 23000|         30|                 4|         23000|\n",
      "| 22|         1|3.66| bachelor| secretary| 24000|         22|                 1|         24000|\n",
      "| 25|         0|3.65| bachelor|  engineer| 27500|         25|                 0|         27500|\n",
      "| 28|         4| 3.1|   master|  engineer| 37000|         28|                 4|         37000|\n",
      "| 24|         0|3.05|   master| secretary| 28500|         24|                 0|         28500|\n",
      "| 33|         3|3.34|doctorate|  engineer| 44000|         33|                 3|         44000|\n",
      "| 31|         0|2.65| bachelor|accountant| 24000|         31|                 0|         24000|\n",
      "| 25|         4| 2.8|   master|accountant| 27500|         25|                 4|         27500|\n",
      "+---+----------+----+---------+----------+------+-----------+------------------+--------------+\n",
      "only showing top 20 rows\n",
      "\n"
     ]
    }
   ],
   "source": [
    "# add imputer to df\n",
    "imputer.fit(df).transform(df).show()"
   ]
  },
  {
   "cell_type": "markdown",
   "id": "fb344e5d-c85b-4c23-8136-a7f0786af4b2",
   "metadata": {},
   "source": [
    "# Filter Operation"
   ]
  },
  {
   "cell_type": "code",
   "execution_count": 133,
   "id": "5dcd8245-abc3-4374-8aff-9d720250f96a",
   "metadata": {},
   "outputs": [
    {
     "name": "stdout",
     "output_type": "stream",
     "text": [
      "+---+----------+----+---------+----------+------+\n",
      "|age|experience| GPA|   degree|  position|salary|\n",
      "+---+----------+----+---------+----------+------+\n",
      "| 30|         7|3.94| bachelor|  engineer| 32500|\n",
      "| 26|         2|2.86| bachelor|      NULL| 22500|\n",
      "| 27|         0|3.13|doctorate| secretary| 37000|\n",
      "| 24|         1|3.81| bachelor|accountant| 23500|\n",
      "| 23|         1|3.78|   master|accountant| 30500|\n",
      "| 27|         2|3.52| bachelor| secretary| 18500|\n",
      "| 25|         3|3.81| bachelor| secretary| 17000|\n",
      "| 30|         4|3.17| bachelor|accountant| 23000|\n",
      "| 22|         1|3.66| bachelor| secretary| 24000|\n",
      "| 25|         0|3.65| bachelor|  engineer| 27500|\n",
      "| 28|         4| 3.1|   master|  engineer| 37000|\n",
      "| 24|         0|3.05|   master| secretary| 28500|\n",
      "| 25|         4| 2.8|   master|accountant| 27500|\n",
      "| 23|         1|2.54|   master| secretary| 23000|\n",
      "| 29|         7|3.52|   master|accountant| 33500|\n",
      "| 29|         2|3.77| bachelor| secretary| 22000|\n",
      "| 22|         1|2.56| bachelor|  engineer| 24500|\n",
      "| 27|         2|2.74|doctorate|  engineer| 34000|\n",
      "| 26|         0|2.82|   master|  engineer| 33000|\n",
      "| 21|         0|2.59| bachelor|accountant| 21500|\n",
      "+---+----------+----+---------+----------+------+\n",
      "only showing top 20 rows\n",
      "\n"
     ]
    }
   ],
   "source": [
    "# age less than 30\n",
    "df.filter('age<=30').show()"
   ]
  },
  {
   "cell_type": "code",
   "execution_count": 135,
   "id": "78ca56ed-fa9e-4496-88a2-e69ddd27a74b",
   "metadata": {},
   "outputs": [
    {
     "name": "stdout",
     "output_type": "stream",
     "text": [
      "+----------+\n",
      "|  position|\n",
      "+----------+\n",
      "|  engineer|\n",
      "|      NULL|\n",
      "| secretary|\n",
      "|accountant|\n",
      "|accountant|\n",
      "| secretary|\n",
      "| secretary|\n",
      "|accountant|\n",
      "| secretary|\n",
      "|  engineer|\n",
      "|  engineer|\n",
      "| secretary|\n",
      "|accountant|\n",
      "| secretary|\n",
      "|accountant|\n",
      "| secretary|\n",
      "|  engineer|\n",
      "|  engineer|\n",
      "|  engineer|\n",
      "|accountant|\n",
      "+----------+\n",
      "only showing top 20 rows\n",
      "\n"
     ]
    }
   ],
   "source": [
    "# show position that age less than 30\n",
    "df.filter('age<=30').select(['position']).show()"
   ]
  },
  {
   "cell_type": "code",
   "execution_count": 136,
   "id": "6bd63250-9444-4746-b312-251f6ab7fd35",
   "metadata": {},
   "outputs": [
    {
     "name": "stdout",
     "output_type": "stream",
     "text": [
      "+---+----------+----+--------+---------+------+\n",
      "|age|experience| GPA|  degree| position|salary|\n",
      "+---+----------+----+--------+---------+------+\n",
      "| 27|         2|3.52|bachelor|secretary| 18500|\n",
      "| 25|         3|3.81|bachelor|secretary| 17000|\n",
      "| 25|         0|2.59|bachelor|secretary| 13000|\n",
      "| 21|         0|3.37|bachelor|secretary| 17000|\n",
      "| 22|         0|3.49|bachelor| engineer| 19000|\n",
      "| 22|         0|3.17|bachelor|secretary| 19000|\n",
      "| 21|         0|3.24|bachelor|secretary| 15000|\n",
      "+---+----------+----+--------+---------+------+\n",
      "\n"
     ]
    }
   ],
   "source": [
    "df.filter(df['salary'] <= 20000).show()"
   ]
  },
  {
   "cell_type": "code",
   "execution_count": 146,
   "id": "9912d0f0-c388-44d9-9b12-2f927f5fde8f",
   "metadata": {},
   "outputs": [
    {
     "name": "stdout",
     "output_type": "stream",
     "text": [
      "+---+----------+----+---------+----------+------+\n",
      "|age|experience| GPA|   degree|  position|salary|\n",
      "+---+----------+----+---------+----------+------+\n",
      "| 30|         7|3.94| bachelor|  engineer| 32500|\n",
      "| 26|         2|2.86| bachelor|      NULL| 22500|\n",
      "| 27|         0|3.13|doctorate| secretary| 37000|\n",
      "| 24|         1|3.81| bachelor|accountant| 23500|\n",
      "| 23|         1|3.78|   master|accountant| 30500|\n",
      "| 27|         2|3.52| bachelor| secretary| 18500|\n",
      "| 25|         3|3.81| bachelor| secretary| 17000|\n",
      "| 30|         4|3.17| bachelor|accountant| 23000|\n",
      "| 22|         1|3.66| bachelor| secretary| 24000|\n",
      "| 25|         0|3.65| bachelor|  engineer| 27500|\n",
      "| 28|         4| 3.1|   master|  engineer| 37000|\n",
      "| 24|         0|3.05|   master| secretary| 28500|\n",
      "| 25|         4| 2.8|   master|accountant| 27500|\n",
      "| 23|         1|2.54|   master| secretary| 23000|\n",
      "| 29|         7|3.52|   master|accountant| 33500|\n",
      "| 29|         2|3.77| bachelor| secretary| 22000|\n",
      "| 22|         1|2.56| bachelor|  engineer| 24500|\n",
      "| 27|         2|2.74|doctorate|  engineer| 34000|\n",
      "| 26|         0|2.82|   master|  engineer| 33000|\n",
      "| 21|         0|2.59| bachelor|accountant| 21500|\n",
      "+---+----------+----+---------+----------+------+\n",
      "only showing top 20 rows\n",
      "\n"
     ]
    }
   ],
   "source": [
    "df.filter((df['salary'] >= 10000) & (df['age'] <= 30)).show()"
   ]
  },
  {
   "cell_type": "markdown",
   "id": "09490904-6189-42b9-bb40-99da35fb3be1",
   "metadata": {},
   "source": [
    "# Group by and aggregate functions"
   ]
  },
  {
   "cell_type": "code",
   "execution_count": 165,
   "id": "2f7c461b-364a-4d45-933a-ffdb5ed28c4c",
   "metadata": {},
   "outputs": [
    {
     "name": "stdout",
     "output_type": "stream",
     "text": [
      "+----------+--------+---------------+--------+-----------+\n",
      "|  position|max(age)|max(experience)|max(GPA)|max(salary)|\n",
      "+----------+--------+---------------+--------+-----------+\n",
      "|      NULL|      26|              2|    2.86|      22500|\n",
      "|accountant|      35|             11|    3.88|      54000|\n",
      "| secretary|      35|             12|    5.88|      48500|\n",
      "|  engineer|      35|             13|    3.94|      53000|\n",
      "+----------+--------+---------------+--------+-----------+\n",
      "\n"
     ]
    }
   ],
   "source": [
    "# group by\n",
    "# group to find the maximum salary\n",
    "df.groupBy('position').max().show()"
   ]
  },
  {
   "cell_type": "code",
   "execution_count": 162,
   "id": "09b080ab-7f40-406f-8f92-04626bfd02aa",
   "metadata": {},
   "outputs": [
    {
     "name": "stdout",
     "output_type": "stream",
     "text": [
      "+---------+------------------+-----------------+------------------+------------------+\n",
      "|   degree|          avg(age)|  avg(experience)|          avg(GPA)|       avg(salary)|\n",
      "+---------+------------------+-----------------+------------------+------------------+\n",
      "|doctorate| 31.22222222222222|6.421052631578948|3.2421052631578946| 43868.42105263158|\n",
      "|   master|27.727272727272727|3.212121212121212| 3.294545454545455|31530.303030303032|\n",
      "| bachelor|26.763157894736842|              3.0| 3.247105263157895| 24459.45945945946|\n",
      "+---------+------------------+-----------------+------------------+------------------+\n",
      "\n"
     ]
    }
   ],
   "source": [
    "# groupby degree to find mean of age\n",
    "df.groupBy('degree').mean().show()"
   ]
  },
  {
   "cell_type": "code",
   "execution_count": 163,
   "id": "ec98e5f6-8322-434a-9451-c7cfc45b39ac",
   "metadata": {},
   "outputs": [
    {
     "name": "stdout",
     "output_type": "stream",
     "text": [
      "+-----------+\n",
      "|sum(salary)|\n",
      "+-----------+\n",
      "|    2779000|\n",
      "+-----------+\n",
      "\n"
     ]
    }
   ],
   "source": [
    "df.agg({'salary':'sum'}).show()"
   ]
  },
  {
   "cell_type": "code",
   "execution_count": null,
   "id": "12b5d1de-01dc-4b08-b907-09e339ee34ab",
   "metadata": {},
   "outputs": [],
   "source": []
  }
 ],
 "metadata": {
  "kernelspec": {
   "display_name": "Python 3 (ipykernel)",
   "language": "python",
   "name": "python3"
  },
  "language_info": {
   "codemirror_mode": {
    "name": "ipython",
    "version": 3
   },
   "file_extension": ".py",
   "mimetype": "text/x-python",
   "name": "python",
   "nbconvert_exporter": "python",
   "pygments_lexer": "ipython3",
   "version": "3.12.4"
  }
 },
 "nbformat": 4,
 "nbformat_minor": 5
}
